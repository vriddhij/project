{
  "nbformat": 4,
  "nbformat_minor": 0,
  "metadata": {
    "colab": {
      "provenance": []
    },
    "kernelspec": {
      "name": "python3",
      "display_name": "Python 3"
    },
    "language_info": {
      "name": "python"
    }
  },
  "cells": [
    {
      "cell_type": "code",
      "execution_count": 1,
      "metadata": {
        "id": "dpHILExA5Oic"
      },
      "outputs": [],
      "source": [
        "import tkinter as tk\n",
        "from tkinter import ttk, messagebox\n",
        "\n",
        "# Sample recipes for demonstration\n",
        "RECIPES = {\n",
        "    \"Pasta\": [\"tomato\", \"garlic\", \"basil\", \"olive oil\", \"pasta\"],\n",
        "    \"Pancakes\": [\"flour\", \"milk\", \"egg\", \"butter\", \"sugar\"],\n",
        "    \"Salad\": [\"lettuce\", \"tomato\", \"cucumber\", \"olive oil\", \"lemon\"],\n",
        "    \"Omelette\": [\"egg\", \"milk\", \"butter\", \"cheese\", \"onion\"],\n",
        "    \"Smoothie\": [\"banana\", \"strawberry\", \"milk\", \"honey\", \"yogurt\"]\n",
        "}\n",
        "\n",
        "def search_recipes():\n",
        "    # Get the user's input ingredients\n",
        "    user_input = ingredient_entry.get().lower()\n",
        "    if not user_input:\n",
        "        messagebox.showinfo(\"Input Error\", \"Please enter some ingredients\")\n",
        "        return\n",
        "\n",
        "    input_ingredients = set(user_input.split(\", \"))\n",
        "    matched_recipes = []\n",
        "\n",
        "    # Search for matching recipes\n",
        "    for recipe, ingredients in RECIPES.items():\n",
        "        if input_ingredients.issubset(set(ingredients)):\n",
        "            matched_recipes.append(recipe)\n",
        "\n",
        "    # Display the results\n",
        "    recipe_list.delete(0, tk.END)\n",
        "    if matched_recipes:\n",
        "        for recipe in matched_recipes:\n",
        "            recipe_list.insert(tk.END, recipe)\n",
        "    else:\n",
        "        recipe_list.insert(tk.END, \"No matching recipes found.\")\n",
        "\n",
        "# Creating the main application window\n",
        "root = tk.Tk()\n",
        "root.title(\"Cookbook\")\n",
        "root.geometry(\"400x500\")\n",
        "root.configure(bg=\"#F4F1DE\")\n",
        "\n",
        "# Styling\n",
        "style = ttk.Style()\n",
        "style.configure(\"TLabel\", background=\"#F4F1DE\", foreground=\"#3D405B\")\n",
        "style.configure(\"TButton\", background=\"black\", foreground=\"black\", font=(\"Helvetica\", 10, \"bold\"))\n",
        "style.map(\"TButton\", background=[(\"active\", \"#F2CC8F\")])\n",
        "\n",
        "# Title Label\n",
        "title_label = ttk.Label(root, text=\"Cookbook\", font=(\"Helvetica\", 20, \"bold\"), background=\"#F4F1DE\")\n",
        "title_label.pack(pady=20)\n",
        "\n",
        "# Instructions Label\n",
        "instructions = ttk.Label(root, text=\"Enter ingredients (comma-separated):\", background=\"#F4F1DE\")\n",
        "instructions.pack(pady=10)\n",
        "\n",
        "# Entry Widget for Ingredients\n",
        "ingredient_entry = ttk.Entry(root, width=40)\n",
        "ingredient_entry.pack(pady=10)\n",
        "\n",
        "# Search Button\n",
        "search_button = ttk.Button(root, text=\"Search Recipe\", command=search_recipes)\n",
        "search_button.pack(pady=10)\n",
        "\n",
        "# Results Listbox\n",
        "recipe_list = tk.Listbox(root, width=40, height=10, bg=\"#E07A5F\", fg=\"white\", font=(\"Helvetica\", 12))\n",
        "recipe_list.pack(pady=20)\n",
        "\n",
        "# Running the application\n",
        "root.mainloop()\n"
      ]
    }
  ]
}